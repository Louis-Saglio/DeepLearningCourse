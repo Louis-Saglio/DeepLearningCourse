{
 "cells": [
  {
   "cell_type": "code",
   "execution_count": 1,
   "metadata": {
    "pycharm": {
     "is_executing": false,
     "name": "#%%\n"
    }
   },
   "outputs": [],
   "source": [
    "from typing import List\n",
    "import pandas as pd\n",
    "import tensorflow as tf\n",
    "import numpy as np\n",
    "from sklearn.metrics import mean_squared_log_error\n"
   ]
  },
  {
   "cell_type": "code",
   "execution_count": 2,
   "metadata": {
    "pycharm": {
     "is_executing": false,
     "name": "#%%\n"
    }
   },
   "outputs": [],
   "source": [
    "def load_data(mode: str, columns: List[str]):\n",
    "    if mode == \"train\":\n",
    "        data = pd.read_csv('../data/house-prices-advanced-regression-techniques/train.csv')\n",
    "        return data[columns].to_numpy(), data['SalePrice'].to_numpy()\n",
    "    else:\n",
    "        data = pd.read_csv('../data/house-prices-advanced-regression-techniques/test.csv')\n",
    "        return data[columns].to_numpy()\n",
    "\n",
    "\n",
    "def randomize(x, y):\n",
    "    \"\"\" Randomizes the order of data samples and their corresponding labels\"\"\"\n",
    "    permutation = np.random.permutation(y.shape[0])\n",
    "    return x[permutation, :], y[permutation]"
   ]
  },
  {
   "cell_type": "code",
   "execution_count": 3,
   "metadata": {
    "pycharm": {
     "is_executing": false,
     "name": "#%%\n"
    }
   },
   "outputs": [],
   "source": [
    "features = ['LotArea', 'TotalBsmtSF']\n",
    "\n",
    "input_layer = tf.placeholder(\n",
    "    tf.float32,\n",
    "    shape=[None, len(features)],\n",
    "    name='input_layer_placeholder'\n",
    ")\n",
    "\n",
    "layer1_size = 200\n",
    "layer1_weights = tf.get_variable(\n",
    "    'layer1_weights',\n",
    "    dtype=tf.float32,\n",
    "    shape=[input_layer.get_shape()[1], layer1_size],\n",
    "    initializer=tf.truncated_normal_initializer(stddev=0.01)\n",
    ")\n",
    "layer1_biases = tf.get_variable(\n",
    "    'layer1_biases',\n",
    "    dtype=tf.float32,\n",
    "    initializer=tf.constant(0., shape=[layer1_size], dtype=tf.float32)\n",
    ")\n",
    "\n",
    "layer1 = tf.matmul(input_layer, layer1_weights)\n",
    "layer1 = tf.add(layer1, layer1_biases)\n",
    "layer1 = tf.nn.relu(layer1)\n",
    "\n",
    "\n",
    "output_layer_size = 1\n",
    "output_layer_weights = tf.get_variable(\n",
    "    'output_layer_weights',\n",
    "    dtype=tf.float32,\n",
    "    shape=[layer1.get_shape()[1], output_layer_size],\n",
    "    initializer=tf.truncated_normal_initializer(stddev=0.01)\n",
    ")\n",
    "output_layer_biases = tf.get_variable(\n",
    "    'output_layer_biases',\n",
    "    dtype=tf.float32,\n",
    "    initializer=tf.constant(0., shape=[output_layer_size], dtype=tf.float32)\n",
    ")\n",
    "output_layer = tf.matmul(layer1, output_layer_weights)\n",
    "output_layer = tf.add(output_layer, output_layer_biases)"
   ]
  },
  {
   "cell_type": "code",
   "execution_count": 4,
   "metadata": {
    "pycharm": {
     "is_executing": false,
     "name": "#%%\n"
    }
   },
   "outputs": [],
   "source": [
    "output_layer_placeholder = tf.placeholder(\n",
    "    tf.float32,\n",
    "    shape=[None],\n",
    "    name='output_layer_placeholder'\n",
    ")\n",
    "loss = tf.reduce_mean(tf.squared_difference(output_layer_placeholder, output_layer))\n",
    "optimizer = tf.train.AdamOptimizer(learning_rate=0.001, name='Adam-optimizer').minimize(loss)"
   ]
  },
  {
   "cell_type": "code",
   "execution_count": 5,
   "metadata": {
    "pycharm": {
     "is_executing": false,
     "name": "#%%\n"
    }
   },
   "outputs": [],
   "source": [
    "init = tf.global_variables_initializer()"
   ]
  },
  {
   "cell_type": "code",
   "execution_count": 6,
   "metadata": {
    "pycharm": {
     "is_executing": false,
     "name": "#%%\n"
    }
   },
   "outputs": [],
   "source": [
    "x_train, y_train = load_data('train', features)"
   ]
  },
  {
   "cell_type": "code",
   "execution_count": 7,
   "metadata": {
    "pycharm": {
     "is_executing": false,
     "name": "#%%\n"
    }
   },
   "outputs": [],
   "source": [
    "BATCH_SIZE = 100\n",
    "EPOCHS_NUMBER = 100\n",
    "\n",
    "session = tf.InteractiveSession()\n",
    "\n",
    "session.run(init)\n",
    "\n",
    "iteration_number = len(y_train) // BATCH_SIZE\n",
    "for epoch in range(EPOCHS_NUMBER):\n",
    "    x_train, y_train = randomize(x_train, y_train)\n",
    "    for batch in range(iteration_number):\n",
    "        start = batch * BATCH_SIZE\n",
    "        end = (batch + 1) * BATCH_SIZE\n",
    "        x_batch = x_train[start:end]\n",
    "        y_batch = y_train[start:end]\n",
    "        session.run(\n",
    "            optimizer,\n",
    "            feed_dict={\n",
    "                input_layer: x_batch,\n",
    "                output_layer_placeholder: y_batch,\n",
    "            },\n",
    "        )"
   ]
  },
  {
   "cell_type": "code",
   "execution_count": 8,
   "metadata": {
    "pycharm": {
     "name": "#%%\n",
     "is_executing": false
    }
   },
   "outputs": [
    {
     "name": "stdout",
     "text": [
      "Train accuracy : 0.5314663209533911\n"
     ],
     "output_type": "stream"
    }
   ],
   "source": [
    "y_train_prediction = session.run(output_layer, feed_dict={input_layer: x_train})\n",
    "y_train_prediction_accuracy = np.sqrt(mean_squared_log_error(y_train, y_train_prediction))\n",
    "\n",
    "print(f'Train accuracy : {y_train_prediction_accuracy}')\n"
   ]
  },
  {
   "cell_type": "code",
   "execution_count": 9,
   "outputs": [
    {
     "name": "stdout",
     "text": [
      "[[122864.98]\n",
      " [162402.73]\n",
      " [140477.86]\n",
      " [113432.75]\n",
      " [ 95294.49]]\n"
     ],
     "output_type": "stream"
    }
   ],
   "source": [
    "y_test_prediction = session.run(\n",
    "    output_layer,\n",
    "    feed_dict={input_layer: load_data('test', features)}\n",
    ")\n",
    "\n",
    "print(y_test_prediction[:5])"
   ],
   "metadata": {
    "collapsed": false,
    "pycharm": {
     "name": "#%%\n",
     "is_executing": false
    }
   }
  },
  {
   "cell_type": "code",
   "execution_count": 10,
   "outputs": [],
   "source": [
    "session.close()\n"
   ],
   "metadata": {
    "collapsed": false,
    "pycharm": {
     "name": "#%%\n",
     "is_executing": false
    }
   }
  }
 ],
 "metadata": {
  "kernelspec": {
   "display_name": "Python 3",
   "language": "python",
   "name": "python3"
  },
  "language_info": {
   "codemirror_mode": {
    "name": "ipython",
    "version": 3
   },
   "file_extension": ".py",
   "mimetype": "text/x-python",
   "name": "python",
   "nbconvert_exporter": "python",
   "pygments_lexer": "ipython3",
   "version": "3.6.10"
  },
  "pycharm": {
   "stem_cell": {
    "cell_type": "raw",
    "source": [],
    "metadata": {
     "collapsed": false
    }
   }
  }
 },
 "nbformat": 4,
 "nbformat_minor": 1
}